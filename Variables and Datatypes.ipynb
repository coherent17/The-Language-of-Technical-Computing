{
 "cells": [
  {
   "cell_type": "markdown",
   "id": "sharp-cable",
   "metadata": {
    "slideshow": {
     "slide_type": "slide"
    }
   },
   "source": [
    "<br />\n",
    "<br />\n",
    "<br />\n",
    "\n",
    "\n",
    "<center><h1>Variables and Datatypes\n",
    "    </h1></center>\n",
    "\n",
    "<br />\n",
    "<br />\n",
    "<center>Time: R78 (15:30~16:20 and 16:30~17:20)</center>\n",
    "<br />\n",
    "\n",
    "<center><h4>Teacher: Chung-Hao Tien (田仲豪)</h4></center>\n",
    "<center><h4>TA: Chih-Chieh Yang (楊智捷) $^1$ Chia-Ling Tu (涂佳伶) $^2$ Ming-Hsuan Wu (吳銘軒) $^3$</h4></center>\n",
    "    \n",
    "<center><h4>E-mail: yangzhijie.eo06@g2.nctu.edu.tw $^1$ jialing.dop09g@nctu.edu.tw $^2$ mhwu.dop09g@nctu.edu.tw $^3$</h4></center>\n",
    "\n",
    "<center><h4>Date: 03/11/2021</h4></center>"
   ]
  },
  {
   "cell_type": "markdown",
   "id": "processed-blanket",
   "metadata": {
    "slideshow": {
     "slide_type": "slide"
    }
   },
   "source": [
    "<h2>Outline</h2>\n",
    "\n",
    "* Variables\n",
    "    * Name rules\n",
    "    * Keywords\n",
    "\n",
    "* Numeric types: int, float, complex\n",
    "\n",
    "* Mapping type - dictionary\n",
    "\n",
    "* Set type: set\n",
    "\n",
    "* Sequence types: tuple, list, string\n",
    "\n",
    "* Operators"
   ]
  },
  {
   "cell_type": "markdown",
   "id": "reserved-mumbai",
   "metadata": {
    "slideshow": {
     "slide_type": "slide"
    }
   },
   "source": [
    "<h2>Variables</h2>\n",
    "\n",
    "Python is an object-oriented programming (OOP) language, and in Python everything is an `object`.\n",
    "\n",
    "\n",
    "\n",
    "\n",
    "* Identity: `id()`\n",
    "\n",
    "* Type: `type()`\n",
    "\n",
    "* Value"
   ]
  },
  {
   "cell_type": "code",
   "execution_count": null,
   "id": "manual-trailer",
   "metadata": {
    "slideshow": {
     "slide_type": "-"
    }
   },
   "outputs": [],
   "source": [
    "x = 3.14\n",
    "print(x)\n",
    "print(id(x))\n",
    "print(type(x))"
   ]
  },
  {
   "cell_type": "markdown",
   "id": "preliminary-blake",
   "metadata": {
    "slideshow": {
     "slide_type": "slide"
    }
   },
   "source": [
    "<h2>Variables Naming Rules</h2>\n",
    "\n",
    "* Only begin with a letter`(A-Z/a-z)` or underscore `(_)`\n",
    "\n",
    "* After that, letters`(A-Z/a-z)`, underscore`(_)`, numbers`(0-9)` are acceptable\n",
    "\n",
    "* Otherwise, error raised!"
   ]
  },
  {
   "cell_type": "code",
   "execution_count": null,
   "id": "warming-kitty",
   "metadata": {},
   "outputs": [],
   "source": [
    "name = \"NYCU\"\n",
    "print(\"type: \", type(name))\n",
    "print(\"name: \", name)"
   ]
  },
  {
   "cell_type": "code",
   "execution_count": null,
   "id": "convenient-collapse",
   "metadata": {},
   "outputs": [],
   "source": [
    "_location = \"HsinChu\""
   ]
  },
  {
   "cell_type": "code",
   "execution_count": null,
   "id": "improved-pastor",
   "metadata": {},
   "outputs": [],
   "source": [
    "# Begin with number => error!\n",
    "113name = \"NCTU\""
   ]
  },
  {
   "cell_type": "markdown",
   "id": "domestic-trick",
   "metadata": {
    "slideshow": {
     "slide_type": "subslide"
    }
   },
   "source": [
    "<h2>Python Keywords (保留字)</h2>\n",
    "\n",
    "* Don't use them as variable names!\n",
    "    \n",
    "    * and, or, is, not, True, False\n",
    "    * from, import, as\n",
    "    * if, elif, else, while, for\n",
    "    * continue, break, pass\n",
    "    * try, except, finally\n",
    "    * def, return, global, nonlocal\n",
    "    * in, assert, raise, class, del, with, yeild, exec, print, None, lambda"
   ]
  },
  {
   "cell_type": "code",
   "execution_count": null,
   "id": "streaming-pointer",
   "metadata": {
    "scrolled": true,
    "slideshow": {
     "slide_type": "-"
    }
   },
   "outputs": [],
   "source": [
    "# Keywords is forbidden!\n",
    "lambda = 550"
   ]
  },
  {
   "cell_type": "code",
   "execution_count": null,
   "id": "peaceful-separation",
   "metadata": {
    "scrolled": true,
    "slideshow": {
     "slide_type": "subslide"
    }
   },
   "outputs": [],
   "source": [
    "import keyword\n",
    "print(keyword.kwlist)"
   ]
  },
  {
   "cell_type": "markdown",
   "id": "embedded-oxide",
   "metadata": {
    "slideshow": {
     "slide_type": "slide"
    }
   },
   "source": [
    "<h2>Swap Variables</h2>"
   ]
  },
  {
   "cell_type": "code",
   "execution_count": null,
   "id": "registered-railway",
   "metadata": {},
   "outputs": [],
   "source": [
    "# method 1\n",
    "x = 113\n",
    "y = 114\n",
    "temp = x\n",
    "x = y\n",
    "y = temp\n",
    "print(\"x: \", x)\n",
    "print(\"y: \", y)"
   ]
  },
  {
   "cell_type": "code",
   "execution_count": null,
   "id": "liberal-isolation",
   "metadata": {},
   "outputs": [],
   "source": [
    "# method 2, more elegant!\n",
    "x, y = 113, 114\n",
    "y, x = x, y\n",
    "print(\"x: \", x)\n",
    "print(\"y: \", y)"
   ]
  },
  {
   "cell_type": "markdown",
   "id": "assured-princeton",
   "metadata": {
    "slideshow": {
     "slide_type": "slide"
    }
   },
   "source": [
    "<h2>Some Common Built-in Types</h2>\n",
    "\n",
    "* Numeric types: 1. int(整數) 2. float(浮點數) 3. complex(複數)\n",
    "\n",
    "* Sequence types: \n",
    "    1. str(字串): `\"Hello, world\"`, `'Hello, world'`, or `'''Hello, world'''`\n",
    "    2. list(列表): `['H', 'e', 'l', 'l', 'o']`\n",
    "    3. tuple(元組): `('H', 'e', 'l', 'l', 'o')`\n",
    "\n",
    "* Iterator type: objects can provide to control the behaviour of `for` loops\n",
    "\n",
    "* Set types: set(集合), frozenset `{'H', 'e', 'l', 'l', 'o'}`\n",
    "\n",
    "* Mapping type: dict(字典) `{key:value}`\n"
   ]
  },
  {
   "cell_type": "markdown",
   "id": "satisfactory-ferry",
   "metadata": {
    "slideshow": {
     "slide_type": "slide"
    }
   },
   "source": [
    "<h2>Type Conversion</h2>\n",
    "\n",
    "* int(), float(), complex()\n",
    "* str(), repr(), eval()\n",
    "* chr(), ord()\n",
    "* bool()\n",
    "* set(), list()\n"
   ]
  },
  {
   "cell_type": "code",
   "execution_count": null,
   "id": "proper-blink",
   "metadata": {},
   "outputs": [],
   "source": [
    "# ASCII code\n",
    "print(chr(90))\n",
    "print(ord('Z'))"
   ]
  },
  {
   "cell_type": "code",
   "execution_count": null,
   "id": "explicit-pencil",
   "metadata": {},
   "outputs": [],
   "source": [
    "list(\"Hello\")"
   ]
  },
  {
   "cell_type": "code",
   "execution_count": null,
   "id": "swedish-audience",
   "metadata": {},
   "outputs": [],
   "source": []
  },
  {
   "cell_type": "markdown",
   "id": "systematic-performer",
   "metadata": {
    "slideshow": {
     "slide_type": "skip"
    }
   },
   "source": [
    "<h2>Check Types</h2>\n",
    "\n",
    "Function: `isinstance(obj, classinfo)`"
   ]
  },
  {
   "cell_type": "markdown",
   "id": "technological-divorce",
   "metadata": {
    "slideshow": {
     "slide_type": "slide"
    }
   },
   "source": [
    "<h2>Numeric Types</h2>"
   ]
  },
  {
   "cell_type": "code",
   "execution_count": null,
   "id": "ceramic-camping",
   "metadata": {},
   "outputs": [],
   "source": [
    "# int (整數)\n",
    "a = 255\n",
    "\n",
    "# float (浮點數)\n",
    "b = 255.\n",
    "\n",
    "print(\"type(a):\", type(a))\n",
    "print(\"type(b):\", type(b))"
   ]
  },
  {
   "cell_type": "code",
   "execution_count": null,
   "id": "young-objective",
   "metadata": {
    "slideshow": {
     "slide_type": "-"
    }
   },
   "outputs": [],
   "source": [
    "print(float(\"Inf\"))\n",
    "print(float(\"nan\"))"
   ]
  },
  {
   "cell_type": "code",
   "execution_count": null,
   "id": "toxic-receiver",
   "metadata": {},
   "outputs": [],
   "source": [
    "# complex (複數)\n",
    "x = 0.4 + 0.6j\n",
    "print(\"real part:\", x.real)\n",
    "print(\"imaginary part:\", x.imag)\n",
    "print(\"conjugate:\", x.conjugate())"
   ]
  },
  {
   "cell_type": "markdown",
   "id": "written-sally",
   "metadata": {
    "slideshow": {
     "slide_type": "slide"
    }
   },
   "source": [
    "<h2>Mapping type - Dictionary</h2>\n",
    "\n",
    "Use `keys` to access `values`\n",
    "\n"
   ]
  },
  {
   "cell_type": "code",
   "execution_count": null,
   "id": "vertical-credits",
   "metadata": {},
   "outputs": [],
   "source": [
    "stock = {\n",
    "    \"name\": \"Tesla\",\n",
    "    \"open\": 814.29,\n",
    "    \"day range\": [795.56, 842.00],\n",
    "    \"beta\": 1.33,\n",
    "    \"P/E ratio\": 1678.28,\n",
    "    \"EPS\": 0.50,\n",
    "}"
   ]
  },
  {
   "cell_type": "code",
   "execution_count": null,
   "id": "hairy-nerve",
   "metadata": {},
   "outputs": [],
   "source": [
    "stock.keys()\n",
    "# stock.values()\n",
    "# stock.items()"
   ]
  },
  {
   "cell_type": "code",
   "execution_count": null,
   "id": "alpine-device",
   "metadata": {},
   "outputs": [],
   "source": [
    "stock.get('name')"
   ]
  },
  {
   "cell_type": "code",
   "execution_count": null,
   "id": "surprised-guest",
   "metadata": {},
   "outputs": [],
   "source": [
    "stock[\"EPS\"]"
   ]
  },
  {
   "cell_type": "markdown",
   "id": "confident-scanning",
   "metadata": {
    "slideshow": {
     "slide_type": "slide"
    }
   },
   "source": [
    "<h2>Set Type: Set</h2>\n",
    "\n",
    "Can store multiple items in a single variable\n",
    "\n",
    "Properties: unordered, unindexed, and duplicates not allowed"
   ]
  },
  {
   "cell_type": "code",
   "execution_count": null,
   "id": "usual-inventory",
   "metadata": {},
   "outputs": [],
   "source": [
    "stock = {\"TSLA\", \"AAPL\", \"AMZN\", \"NVDA\"} #, \"BTC\"\n",
    "# Add a new element\n",
    "stock.add(\"BTC\")\n",
    "stock"
   ]
  },
  {
   "cell_type": "code",
   "execution_count": null,
   "id": "successful-chart",
   "metadata": {},
   "outputs": [],
   "source": [
    "# If \"AMZN\" is not in stock, using remove would raise an error\n",
    "stock.remove(\"AMZN\")\n",
    "# While discard would not\n",
    "# stock.discard(\"AMZN\")\n",
    "stock"
   ]
  },
  {
   "cell_type": "code",
   "execution_count": null,
   "id": "saving-torture",
   "metadata": {
    "slideshow": {
     "slide_type": "subslide"
    }
   },
   "outputs": [],
   "source": [
    "stock2 = {\"TSM\", \"UMC\", \"GOOG\", \"TWTR\"}"
   ]
  },
  {
   "cell_type": "code",
   "execution_count": null,
   "id": "blessed-snake",
   "metadata": {},
   "outputs": [],
   "source": [
    "stock2.union(stock)"
   ]
  },
  {
   "cell_type": "code",
   "execution_count": null,
   "id": "divided-aspect",
   "metadata": {},
   "outputs": [],
   "source": [
    "stock.intersection(stock2)"
   ]
  },
  {
   "cell_type": "code",
   "execution_count": null,
   "id": "usual-intensity",
   "metadata": {},
   "outputs": [],
   "source": [
    "stock.pop()\n",
    "stock"
   ]
  },
  {
   "cell_type": "markdown",
   "id": "interested-replica",
   "metadata": {
    "slideshow": {
     "slide_type": "slide"
    }
   },
   "source": [
    "<h2>Sequence Types - Tuple</h2>\n",
    "\n",
    "Can store multiple items in a single variable.\n",
    "\n",
    "Properties: ordered, allow duplicated, **unchangeable**"
   ]
  },
  {
   "cell_type": "code",
   "execution_count": null,
   "id": "biological-toddler",
   "metadata": {},
   "outputs": [],
   "source": [
    "amd = (\"3700X\", \"3800X\", \"3800XT\", \"3900X\", \"3700X\", \"3900XT\", \"3950X\")\n",
    "amd[0]\n",
    "# amd[2:-1]"
   ]
  },
  {
   "cell_type": "code",
   "execution_count": null,
   "id": "elect-bunch",
   "metadata": {},
   "outputs": [],
   "source": [
    "# amd + amd\n",
    "# amd * 3\n",
    "# (amd,)*3"
   ]
  },
  {
   "cell_type": "code",
   "execution_count": null,
   "id": "rubber-tennis",
   "metadata": {},
   "outputs": [],
   "source": [
    "amd.count(\"3700X\")\n",
    "# amd.index(\"3900X\")"
   ]
  },
  {
   "cell_type": "code",
   "execution_count": null,
   "id": "union-ability",
   "metadata": {},
   "outputs": [],
   "source": [
    "# Convert set to tuple\n",
    "stock = {'AAPL', 'AMZN', 'BTC', 'NVDA', 'TSLA'}\n",
    "tuple(stock)"
   ]
  },
  {
   "cell_type": "markdown",
   "id": "operating-blake",
   "metadata": {
    "slideshow": {
     "slide_type": "slide"
    }
   },
   "source": [
    "<h2>Sequence Types - List</h2>\n",
    "\n",
    "Can store multiple items in a single variable.\n",
    "\n",
    "Properties: ordered, allow duplicates, **changeable**"
   ]
  },
  {
   "cell_type": "code",
   "execution_count": null,
   "id": "seven-mathematics",
   "metadata": {},
   "outputs": [],
   "source": [
    "# Convert tuple to list\n",
    "amd = (\"3700X\", \"3900X\", \"3700X\", \"3900XT\", \"3950X\")\n",
    "amd = list(amd)\n",
    "print(amd)"
   ]
  },
  {
   "cell_type": "code",
   "execution_count": null,
   "id": "drawn-synthesis",
   "metadata": {},
   "outputs": [],
   "source": [
    "# Useful methods: append(), clear(), copy(), count(), extend(), index(), insert(), pop(), remove(), reverse(), sort()"
   ]
  },
  {
   "cell_type": "code",
   "execution_count": null,
   "id": "outer-judge",
   "metadata": {},
   "outputs": [],
   "source": [
    "# amd.extend([\"Taiwan\", \"Portugal\", \"Italy\", \"Spanish\", \"Frence\"])\n",
    "# amd.remove(\"Italy\")\n",
    "# amd.sort()\n",
    "amd"
   ]
  },
  {
   "cell_type": "code",
   "execution_count": null,
   "id": "dynamic-frontier",
   "metadata": {},
   "outputs": [],
   "source": [
    "amd"
   ]
  },
  {
   "cell_type": "code",
   "execution_count": null,
   "id": "according-trance",
   "metadata": {
    "slideshow": {
     "slide_type": "subslide"
    }
   },
   "outputs": [],
   "source": [
    "x = list(range(-15, 15))\n",
    "print(x)"
   ]
  },
  {
   "cell_type": "code",
   "execution_count": null,
   "id": "chubby-tablet",
   "metadata": {},
   "outputs": [],
   "source": [
    "print(x[::-1])"
   ]
  },
  {
   "cell_type": "code",
   "execution_count": null,
   "id": "healthy-cigarette",
   "metadata": {},
   "outputs": [],
   "source": [
    "print(x[::2])"
   ]
  },
  {
   "cell_type": "code",
   "execution_count": null,
   "id": "essential-position",
   "metadata": {},
   "outputs": [],
   "source": [
    "print(x[-2:])"
   ]
  },
  {
   "cell_type": "markdown",
   "id": "funded-front",
   "metadata": {
    "slideshow": {
     "slide_type": "slide"
    }
   },
   "source": [
    "<h2>Sequence Types - String</h2>\n",
    "\n",
    "* String is a container, "
   ]
  },
  {
   "cell_type": "code",
   "execution_count": null,
   "id": "convenient-level",
   "metadata": {},
   "outputs": [],
   "source": [
    "# Useful methods: capitalize(), count(), endswith(), find(), format(), isdigit(), lower(), upper(), join(), rjust(), split(), etc."
   ]
  },
  {
   "cell_type": "code",
   "execution_count": null,
   "id": "incorporated-visit",
   "metadata": {},
   "outputs": [],
   "source": [
    "quote = \"your time is limited, so don’t waste it living someone else’s life.\"\n",
    "quote.islower()"
   ]
  },
  {
   "cell_type": "code",
   "execution_count": null,
   "id": "confident-caution",
   "metadata": {},
   "outputs": [],
   "source": [
    "quote = \"{} time is limited, so don’t waste it living someone else’s life.\".format(\"His\")\n",
    "quote"
   ]
  },
  {
   "cell_type": "code",
   "execution_count": null,
   "id": "brilliant-operation",
   "metadata": {},
   "outputs": [],
   "source": [
    "# Addition\n",
    "quote + \" --- Steve Jobs\""
   ]
  },
  {
   "cell_type": "code",
   "execution_count": null,
   "id": "fancy-thread",
   "metadata": {},
   "outputs": [],
   "source": [
    "# Multiplication\n",
    "name = \"NYCU\"\n",
    "name*10"
   ]
  },
  {
   "cell_type": "code",
   "execution_count": null,
   "id": "applicable-baseball",
   "metadata": {
    "slideshow": {
     "slide_type": "subslide"
    }
   },
   "outputs": [],
   "source": [
    "# Slicing\n",
    "quote = \"Your time is limited, so don’t waste it living someone else’s life.\"\n",
    "print(quote)\n",
    "# First 10 chars\n",
    "print(quote[:10])\n",
    "# First one to last 10 chars\n",
    "print(quote[:-10])\n",
    "# Jump by 2\n",
    "print(quote[::2])\n",
    "# Reverse\n",
    "print(quote[::-1])"
   ]
  },
  {
   "cell_type": "code",
   "execution_count": null,
   "id": "threatened-password",
   "metadata": {},
   "outputs": [],
   "source": [
    "title = ''''No room for debate or compromise' as Hong Kong introduces \n",
    "sweeping national security rules for schools'''\n",
    "print(title)"
   ]
  },
  {
   "cell_type": "markdown",
   "id": "surprising-penny",
   "metadata": {
    "slideshow": {
     "slide_type": "subslide"
    }
   },
   "source": [
    "<h2>Escape characters</h2>\n",
    "\n",
    "| Escape sequence      | Description   |\n",
    "|----------------------|---------------|\n",
    "| \\n                   | New Line      |\n",
    "| \\t                   | Tab           |\n",
    "| \\\\\"                   | Double Quote  |\n",
    "| \\\\'                   | Single Quote  |\n",
    "| \\\\\\                   | Backslash     |\n",
    "| \\f                   | Form Feed     |"
   ]
  },
  {
   "cell_type": "code",
   "execution_count": null,
   "id": "quality-fancy",
   "metadata": {},
   "outputs": [],
   "source": [
    "print(\"\\\"Always remember that you are absolutely unique. Just like everyone else.\\\" -Margaret Mead\")"
   ]
  },
  {
   "cell_type": "code",
   "execution_count": null,
   "id": "noticed-volleyball",
   "metadata": {},
   "outputs": [],
   "source": []
  },
  {
   "cell_type": "code",
   "execution_count": null,
   "id": "paperback-defeat",
   "metadata": {},
   "outputs": [],
   "source": []
  },
  {
   "cell_type": "markdown",
   "id": "derived-announcement",
   "metadata": {
    "slideshow": {
     "slide_type": "subslide"
    }
   },
   "source": [
    "<h2>Row string</h2>\n",
    "\n",
    "* Created by prefixing a string literal with `r` or `R`\n",
    "\n",
    "* Raw string treats backslash (\\) as a literal character (不會被當作跳脫字元)"
   ]
  },
  {
   "cell_type": "code",
   "execution_count": null,
   "id": "curious-fabric",
   "metadata": {},
   "outputs": [],
   "source": [
    "s = 'Hi\\nHello'\n",
    "print(s)"
   ]
  },
  {
   "cell_type": "markdown",
   "id": "unsigned-allowance",
   "metadata": {},
   "source": [
    "<h2>F-string</h2>\n",
    "\n",
    "* Provides a concise and convenient way to embed python expressions inside string literals for formatting. (可以把變數放入字串內)"
   ]
  },
  {
   "cell_type": "code",
   "execution_count": null,
   "id": "lonely-first",
   "metadata": {},
   "outputs": [],
   "source": [
    "stock = [\"TSLA\", \"AAPL\", \"AMZN\", \"NVDA\"]"
   ]
  },
  {
   "cell_type": "markdown",
   "id": "metropolitan-letters",
   "metadata": {
    "slideshow": {
     "slide_type": "slide"
    }
   },
   "source": [
    "<h2>Operators</h2>\n",
    "\n",
    "* Arithmetic operators (算術運算子)\n",
    "* Assignment operators (指派運算子)\n",
    "* Comparison operators (比較運算子)\n",
    "* Logical operators (邏輯運算子)\n",
    "* Identity operators (身分運算子)\n",
    "* Membership operators (隸屬運算子)\n",
    "* Bitwise operators (位元運算子)\n",
    "\n",
    "Reference: https://www.w3schools.com/python/python_operators.asp"
   ]
  },
  {
   "cell_type": "markdown",
   "id": "pressed-dispute",
   "metadata": {
    "slideshow": {
     "slide_type": "subslide"
    }
   },
   "source": [
    "<h2>Arithmetic operators</h2>\n",
    "\n",
    "* Used with numeric values to perform common `mathematical operations`\n",
    "\n",
    "| Operator | Name           |\n",
    "|----------|----------------|\n",
    "| +        | Addition       |\n",
    "| -        | Subtraction    |\n",
    "| *        | Multiplication |\n",
    "| /        | Division       |\n",
    "| %        | Modulus        |\n",
    "| **       | Exponentiation |\n",
    "| //       | Floor division |\n",
    "\n",
    "\n",
    "\n"
   ]
  },
  {
   "cell_type": "code",
   "execution_count": null,
   "id": "scientific-engineering",
   "metadata": {},
   "outputs": [],
   "source": [
    "vector1 = 3 + 2j\n",
    "vector2 = 2 + 10j\n",
    "vector1 + vector2"
   ]
  },
  {
   "cell_type": "markdown",
   "id": "hired-associate",
   "metadata": {
    "slideshow": {
     "slide_type": "subslide"
    }
   },
   "source": [
    "<h2>Assignment operators</h2>\n",
    "\n",
    "* Used to assign values to variables\n",
    "\n",
    "| Operator | Same as    |\n",
    "|----------|------------|\n",
    "| =        | x = 3      |\n",
    "| +=       | x = x + 5  |\n",
    "| -=       | x = x - 5  |\n",
    "| *=       | x = x * 5  |\n",
    "| /=       | x = x / 5  |\n",
    "| %=       | x = x % 5  |\n",
    "| //=      | x = x // 5 |\n",
    "| **=      | x = x ** 5 |"
   ]
  },
  {
   "cell_type": "code",
   "execution_count": null,
   "id": "political-illinois",
   "metadata": {},
   "outputs": [],
   "source": [
    "x = 1000\n",
    "x += 1\n",
    "print(x)"
   ]
  },
  {
   "cell_type": "markdown",
   "id": "useful-george",
   "metadata": {
    "slideshow": {
     "slide_type": "subslide"
    }
   },
   "source": [
    "<h2>Comparison operators</h2>\n",
    "\n",
    "* Used to compare two values\n",
    "\n",
    "| Operator | Name                     |\n",
    "|----------|--------------------------|\n",
    "| ==       | Equal                    |\n",
    "| !=       | Not equal                |\n",
    "| >        | Greater than             |\n",
    "| <        | Less than                |\n",
    "| >=       | Greater than or equal to |\n",
    "| <=       | Less than or equal to    |"
   ]
  },
  {
   "cell_type": "code",
   "execution_count": null,
   "id": "stainless-skiing",
   "metadata": {},
   "outputs": [],
   "source": []
  },
  {
   "cell_type": "markdown",
   "id": "environmental-jenny",
   "metadata": {
    "slideshow": {
     "slide_type": "subslide"
    }
   },
   "source": [
    "<h2>Logical operators</h2>\n",
    "\n",
    "* Used to combine conditional statements\n",
    "\n",
    "| Operator | Description                                  |\n",
    "|----------|----------------------------------------------|\n",
    "| and      | Return True if both statements are true      |\n",
    "| or       | Return True if one of the statements is true |\n",
    "| not      | Reverse the result                           |"
   ]
  },
  {
   "cell_type": "code",
   "execution_count": null,
   "id": "stylish-monroe",
   "metadata": {},
   "outputs": [],
   "source": [
    "x = 25\n",
    "\n",
    "print((x>0) and (x<30))\n",
    "print((x>0) or (x>50))\n",
    "print(not((x>0) and (x<30)))"
   ]
  },
  {
   "cell_type": "markdown",
   "id": "collective-electron",
   "metadata": {
    "slideshow": {
     "slide_type": "subslide"
    }
   },
   "source": [
    "<h2>Identity operators</h2>\n",
    "\n",
    "* Used to compare the objects if they are actually the same object, with the same memory location (比較兩物件記憶體位置是否相同)\n",
    "\n",
    "| Operator | Description                                          |\n",
    "|----------|------------------------------------------------------|\n",
    "| is       | Return True if both variables are the same object    |\n",
    "| is not   | Return True if both variable are not the same object |"
   ]
  },
  {
   "cell_type": "code",
   "execution_count": null,
   "id": "noted-substitute",
   "metadata": {},
   "outputs": [],
   "source": [
    "a = c = [\"Hello\", \"world\"]\n",
    "print(id(a), id(c))\n",
    "print(a == c)\n",
    "\n",
    "a = [\"Hello\", \"world\"]\n",
    "c = [\"Hello\", \"world\"]\n",
    "print(id(a), id(c))\n",
    "print(a is c)"
   ]
  },
  {
   "cell_type": "markdown",
   "id": "manual-rehabilitation",
   "metadata": {
    "slideshow": {
     "slide_type": "subslide"
    }
   },
   "source": [
    "<h2>Membership operators</h2>\n",
    "\n",
    "* Used to test if a sequence is presented in an object (檢查元素是否在序列物件裡面)\n",
    "\n",
    "| Operator | Description                                                                 |\n",
    "|----------|-----------------------------------------------------------------------------|\n",
    "| in       | Return True if a sequence with the specified value is **present** in the object |\n",
    "| not in   | Return True if a sequence with the specified value is **not present** in the object     |"
   ]
  },
  {
   "cell_type": "code",
   "execution_count": null,
   "id": "spread-nation",
   "metadata": {},
   "outputs": [],
   "source": [
    "SP500_TOP10 = [\"AAPL\", \"MSFT\", \"AMZN\", \"FB\", \"TSLA\", \"GOOGL\", \"GOOG\", \"BRK.B\", \"JNJ\", \"JPM\"]\n",
    "\n",
    "print(\"AMD\" in SP500_TOP10)"
   ]
  },
  {
   "cell_type": "markdown",
   "id": "adolescent-arbitration",
   "metadata": {
    "slideshow": {
     "slide_type": "subslide"
    }
   },
   "source": [
    "<h2>Bitwise operators</h2>\n",
    "\n",
    "* Used to compare (binary) numbers (比較二進數)\n",
    "\n",
    "| Operator | Name | Description                                     |\n",
    "|----------|------|-------------------------------------------------|\n",
    "| &        | AND  | Sets each bit to 1 if both bits are 1           |\n",
    "| \\|       | OR   | Sets each bit to 1 if one of two bits is 1      |\n",
    "| ^        | XOR  | Sets each bit to 1 if only one of two bits is 1 |\n",
    "| ~        | NOT  | Inverts all the bits                            |"
   ]
  },
  {
   "cell_type": "code",
   "execution_count": null,
   "id": "brilliant-victor",
   "metadata": {},
   "outputs": [],
   "source": [
    "x = 113\n",
    "y = 56\n",
    "\n",
    "print(bin(x).rjust(16,\" \"))\n",
    "print(bin(y).rjust(16,\" \"))\n",
    "\n",
    "print(x & y)"
   ]
  },
  {
   "cell_type": "code",
   "execution_count": null,
   "id": "mounted-colonial",
   "metadata": {},
   "outputs": [],
   "source": []
  }
 ],
 "metadata": {
  "celltoolbar": "Slideshow",
  "kernelspec": {
   "display_name": "Python 3",
   "language": "python",
   "name": "python3"
  },
  "language_info": {
   "codemirror_mode": {
    "name": "ipython",
    "version": 3
   },
   "file_extension": ".py",
   "mimetype": "text/x-python",
   "name": "python",
   "nbconvert_exporter": "python",
   "pygments_lexer": "ipython3",
   "version": "3.8.5"
  }
 },
 "nbformat": 4,
 "nbformat_minor": 5
}
